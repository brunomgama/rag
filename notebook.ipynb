{
 "cells": [
  {
   "cell_type": "code",
   "id": "initial_id",
   "metadata": {
    "collapsed": true,
    "ExecuteTime": {
     "end_time": "2025-01-24T20:53:01.640522Z",
     "start_time": "2025-01-24T20:53:01.636403Z"
    }
   },
   "source": [
    "# pip install -qU langchain-text-splitters\n",
    "# pip install qdrant-client\n",
    "# pip install pypdf\n",
    "# pip install python-dotenv\n",
    "# pip install sentence-transformers\n",
    "# pip install qdrant-client\n",
    "\n",
    "import os\n",
    "import torch\n",
    "\n",
    "from dotenv import load_dotenv\n",
    "from pypdf import PdfReader\n",
    "from langchain_text_splitters import RecursiveCharacterTextSplitter\n",
    "from sentence_transformers import SentenceTransformer\n",
    "from qdrant_client import QdrantClient\n",
    "from qdrant_client.models import VectorParams, Distance\n",
    "from litellm import completion\n",
    "\n",
    "load_dotenv()\n",
    "\n",
    "FILE_PATH = os.path.join(\"data\",\"12FactorApp.pdf\")\n",
    "EMBEDDING_MODEL = \"BAAI/bge-small-en-v1.5\"\n",
    "COLLECTION_NAME = \"qa_index\"\n",
    "\n",
    "LLM_MODEL = \"ollama/llama2\"\n",
    "API_BASE = \"http://localhost:11434\"\n",
    "\n",
    "\n",
    "SYSTEM_PROMPT = \"\"\"You are an assistant for question-answering tasks. Answer the question according only to the given context.\n",
    "If question cannot be answered using the context, simply say I don't know. Do not make stuff up.\n",
    "Context: {context}\n",
    "\n",
    "\"\"\"\n",
    "\n",
    "USER_PROMPT = \"\"\"\n",
    "Question: {question}\n",
    "\n",
    "Answer:\"\"\"\n"
   ],
   "outputs": [],
   "execution_count": 47
  },
  {
   "metadata": {
    "ExecuteTime": {
     "end_time": "2025-01-24T20:53:01.678226Z",
     "start_time": "2025-01-24T20:53:01.641982Z"
    }
   },
   "cell_type": "code",
   "source": [
    "reader = PdfReader(FILE_PATH)\n",
    "number_of_pages = len(reader.pages)\n",
    "\n",
    "entire_text = \"\"\n",
    "for page_num in range(number_of_pages):\n",
    "    page = reader.pages[page_num]\n",
    "    entire_text += page.extract_text()\n",
    "\n",
    "entire_text[:200]\n",
    "\n",
    "print(f\"Number of pages: {number_of_pages}\")"
   ],
   "id": "950437a2c2dee97",
   "outputs": [
    {
     "name": "stdout",
     "output_type": "stream",
     "text": [
      "Number of pages: 4\n"
     ]
    }
   ],
   "execution_count": 48
  },
  {
   "metadata": {
    "ExecuteTime": {
     "end_time": "2025-01-24T20:53:01.750043Z",
     "start_time": "2025-01-24T20:53:01.685665Z"
    }
   },
   "cell_type": "code",
   "source": [
    "text_splitter = RecursiveCharacterTextSplitter(chunk_size=300, chunk_overlap=100)\n",
    "\n",
    "text_chunks = text_splitter.split_text(entire_text)\n",
    "print(f\"Total chunks: {len(text_chunks)}\")\n",
    "\n",
    "text_chunks[:2]"
   ],
   "id": "81c92f22485dbbd0",
   "outputs": [
    {
     "name": "stdout",
     "output_type": "stream",
     "text": [
      "Total chunks: 28\n"
     ]
    },
    {
     "data": {
      "text/plain": [
       "['The 12-Factor App Methodology\\nIn modern software development, applications are often provided as services, such as\\nweb apps or software-as-a-service (SaaS). The 12-Factor App methodology offers a\\nframework for building such services that:\\nThe Twelve Factors',\n",
       " 'framework for building such services that:\\nThe Twelve Factors\\nHere is an overview of the twelve factors and their one-sentence definitions:\\nDeep Dive into Each Factor\\nI. Codebase\\nA single codebase should be tracked in a version control system like Git. This codebase']"
      ]
     },
     "execution_count": 49,
     "metadata": {},
     "output_type": "execute_result"
    }
   ],
   "execution_count": 49
  },
  {
   "metadata": {
    "ExecuteTime": {
     "end_time": "2025-01-24T20:53:03.672981Z",
     "start_time": "2025-01-24T20:53:01.750959Z"
    }
   },
   "cell_type": "code",
   "source": [
    "# Check if a GPU is available\n",
    "device = torch.device(\"cuda\" if torch.cuda.is_available() else \"cpu\")\n",
    "\n",
    "print(f\"Using device: {device}\")\n",
    "\n",
    "embedding_model = SentenceTransformer(EMBEDDING_MODEL, device=device)\n",
    "\n",
    "embeddings = embedding_model.encode(text_chunks, show_progress_bar=True)\n",
    "\n",
    "embeddings[0].shape"
   ],
   "id": "8997123fed20e61",
   "outputs": [
    {
     "name": "stdout",
     "output_type": "stream",
     "text": [
      "Using device: cpu\n"
     ]
    },
    {
     "data": {
      "text/plain": [
       "Batches:   0%|          | 0/1 [00:00<?, ?it/s]"
      ],
      "application/vnd.jupyter.widget-view+json": {
       "version_major": 2,
       "version_minor": 0,
       "model_id": "40328fddae1e4402a7a0a9f4e053a77e"
      }
     },
     "metadata": {},
     "output_type": "display_data"
    },
    {
     "data": {
      "text/plain": [
       "(384,)"
      ]
     },
     "execution_count": 50,
     "metadata": {},
     "output_type": "execute_result"
    }
   ],
   "execution_count": 50
  },
  {
   "metadata": {},
   "cell_type": "markdown",
   "source": [
    "docker pull qdrant/qdrant\n",
    "\n",
    "docker run -p 6333:6333 \\\n",
    "    -v $(pwd)/qdrant_storage:/qdrant/storage \\\n",
    "    qdrant/qdrant"
   ],
   "id": "f62b14f3f804059a"
  },
  {
   "metadata": {
    "ExecuteTime": {
     "end_time": "2025-01-24T20:53:03.971015Z",
     "start_time": "2025-01-24T20:53:03.675444Z"
    }
   },
   "cell_type": "code",
   "source": [
    "client = QdrantClient(\"http://localhost:6333\")\n",
    "\n",
    "client.delete_collection(COLLECTION_NAME)\n",
    "\n",
    "client.create_collection(\n",
    "    collection_name=COLLECTION_NAME,\n",
    "    vectors_config=VectorParams(size=384, distance=Distance.COSINE),\n",
    "\n",
    ")"
   ],
   "id": "ddfc562c3d58f03",
   "outputs": [
    {
     "data": {
      "text/plain": [
       "True"
      ]
     },
     "execution_count": 51,
     "metadata": {},
     "output_type": "execute_result"
    }
   ],
   "execution_count": 51
  },
  {
   "metadata": {
    "ExecuteTime": {
     "end_time": "2025-01-24T20:53:03.975402Z",
     "start_time": "2025-01-24T20:53:03.972064Z"
    }
   },
   "cell_type": "code",
   "source": [
    "ids = []\n",
    "payload = []\n",
    "\n",
    "for id, text in enumerate(text_chunks):\n",
    "    ids.append(id)\n",
    "    payload.append({\"source\": FILE_PATH, \"content\": text})\n",
    "\n",
    "payload[0]"
   ],
   "id": "8d3fe9075bef332c",
   "outputs": [
    {
     "data": {
      "text/plain": [
       "{'source': 'data/12FactorApp.pdf',\n",
       " 'content': 'The 12-Factor App Methodology\\nIn modern software development, applications are often provided as services, such as\\nweb apps or software-as-a-service (SaaS). The 12-Factor App methodology offers a\\nframework for building such services that:\\nThe Twelve Factors'}"
      ]
     },
     "execution_count": 52,
     "metadata": {},
     "output_type": "execute_result"
    }
   ],
   "execution_count": 52
  },
  {
   "metadata": {
    "ExecuteTime": {
     "end_time": "2025-01-24T20:53:04.000742Z",
     "start_time": "2025-01-24T20:53:03.976711Z"
    }
   },
   "cell_type": "code",
   "source": [
    "client.upload_collection(\n",
    "    collection_name=COLLECTION_NAME,\n",
    "    vectors=embeddings,\n",
    "    payload=payload,\n",
    "    ids=ids,\n",
    "    batch_size=256,\n",
    ")\n",
    "\n",
    "client.count(COLLECTION_NAME)"
   ],
   "id": "fd1b5ba258d9094d",
   "outputs": [
    {
     "data": {
      "text/plain": [
       "CountResult(count=28)"
      ]
     },
     "execution_count": 53,
     "metadata": {},
     "output_type": "execute_result"
    }
   ],
   "execution_count": 53
  },
  {
   "metadata": {
    "ExecuteTime": {
     "end_time": "2025-01-24T20:53:04.003890Z",
     "start_time": "2025-01-24T20:53:04.001639Z"
    }
   },
   "cell_type": "code",
   "source": [
    "def search(text: str, top_k: int):\n",
    "    query_embedding = embedding_model.encode(text).tolist()\n",
    "\n",
    "    search_result = client.search(\n",
    "        collection_name=COLLECTION_NAME,\n",
    "        query_vector=query_embedding,\n",
    "        query_filter=None,\n",
    "        limit=top_k\n",
    "    )\n",
    "    return search_result"
   ],
   "id": "12dc5bbbd36b60f",
   "outputs": [],
   "execution_count": 54
  },
  {
   "metadata": {
    "ExecuteTime": {
     "end_time": "2025-01-24T20:53:04.041084Z",
     "start_time": "2025-01-24T20:53:04.004954Z"
    }
   },
   "cell_type": "code",
   "source": [
    "question = \"Which are the 12 Factors?\"\n",
    "results = search(question, top_k=5)\n",
    "results"
   ],
   "id": "a033d0d91b932f97",
   "outputs": [
    {
     "name": "stderr",
     "output_type": "stream",
     "text": [
      "/var/folders/lw/sf857rrx2pnckk7268njzx940000gn/T/ipykernel_77849/566791645.py:4: DeprecationWarning: `search` method is deprecated and will be removed in the future. Use `query_points` instead.\n",
      "  search_result = client.search(\n"
     ]
    },
    {
     "data": {
      "text/plain": [
       "[ScoredPoint(id=0, version=0, score=0.71610916, payload={'source': 'data/12FactorApp.pdf', 'content': 'The 12-Factor App Methodology\\nIn modern software development, applications are often provided as services, such as\\nweb apps or software-as-a-service (SaaS). The 12-Factor App methodology offers a\\nframework for building such services that:\\nThe Twelve Factors'}, vector=None, shard_key=None, order_value=None),\n",
       " ScoredPoint(id=1, version=0, score=0.71463484, payload={'source': 'data/12FactorApp.pdf', 'content': 'framework for building such services that:\\nThe Twelve Factors\\nHere is an overview of the twelve factors and their one-sentence definitions:\\nDeep Dive into Each Factor\\nI. Codebase\\nA single codebase should be tracked in a version control system like Git. This codebase'}, vector=None, shard_key=None, order_value=None),\n",
       " ScoredPoint(id=25, version=0, score=0.7134169, payload={'source': 'data/12FactorApp.pdf', 'content': 'Conclusion\\nThe 12-Factor App methodology provides a clear and practical guide for building\\nscalable, maintainable, and resilient applications. By adhering to these principles,\\nDeploying code changes quickly (shortening the time gap).'}, vector=None, shard_key=None, order_value=None),\n",
       " ScoredPoint(id=24, version=0, score=0.6519698, payload={'source': 'data/12FactorApp.pdf', 'content': 'one-off processes in the same environment as the application. This practice ensures\\nconsistency and avoids synchronization issues between code and admin scripts.\\nConclusion\\nThe 12-Factor App methodology provides a clear and practical guide for building'}, vector=None, shard_key=None, order_value=None),\n",
       " ScoredPoint(id=3, version=0, score=0.54093575, payload={'source': 'data/12FactorApp.pdf', 'content': 'components (e.g., payment and delivery services), each should have its own repository\\nto ensure separation of concerns and ease of management.\\nUse declarative formats to minimize onboarding time and cost for new developers.\\nAre suitable for deployment on modern cloud platforms.'}, vector=None, shard_key=None, order_value=None)]"
      ]
     },
     "execution_count": 55,
     "metadata": {},
     "output_type": "execute_result"
    }
   ],
   "execution_count": 55
  },
  {
   "metadata": {
    "ExecuteTime": {
     "end_time": "2025-01-24T20:53:04.044175Z",
     "start_time": "2025-01-24T20:53:04.042100Z"
    }
   },
   "cell_type": "code",
   "source": [
    "references = [obj.payload[\"content\"] for obj in results]\n",
    "\n",
    "context = \"\\n\\n\".join(references)"
   ],
   "id": "46b8751cb4fbb80",
   "outputs": [],
   "execution_count": 56
  },
  {
   "metadata": {
    "ExecuteTime": {
     "end_time": "2025-01-24T20:53:26.776918Z",
     "start_time": "2025-01-24T20:53:16.254921Z"
    }
   },
   "cell_type": "code",
   "source": [
    "response = completion(\n",
    "    model=LLM_MODEL,\n",
    "    messages=[{\"content\": SYSTEM_PROMPT.format(context=context),\"role\": \"system\"}, {\"content\": USER_PROMPT.format(question=question),\"role\": \"user\"}],\n",
    "    api_base=API_BASE,\n",
    "    stream=True\n",
    ")\n",
    "\n",
    "for chunk in response:\n",
    "    if chunk.choices[0].delta.content:\n",
    "        print(chunk.choices[0].delta.content, end=\"\")"
   ],
   "id": "a8ab566f65a4c59d",
   "outputs": [
    {
     "name": "stdout",
     "output_type": "stream",
     "text": [
      "The 12 factors are:\n",
      "\n",
      "1. Codebase - A single codebase should be tracked in a version control system like Git.\n",
      "2. Deployments - Deploying code changes quickly (shortening the time gap).\n",
      "3. Environments - Creating isolated environments for different deployments of the application.\n",
      "4. Packaging - Using declarative formats to minimize onboarding time and cost for new developers.\n",
      "5. Services - Providing services such as web apps or software-as-a-service (SaaS).\n",
      "6. Config - Managing configuration separate from code.\n",
      "7. Database - Separating the database into a single, standalone repository.\n",
      "8. Secret - Storing sensitive information securely.\n",
      "9. Tests - Writing tests that cover both functional and acceptance testing.\n",
      "10. Cache - Using caching mechanisms to improve performance.\n",
      "11. Logs - Centralizing log management for better visibility and troubleshooting.\n",
      "12. Continuous Integration/Continuous Deployment (CI/CD) - Automating the build, test, and deployment process."
     ]
    }
   ],
   "execution_count": 58
  }
 ],
 "metadata": {
  "kernelspec": {
   "display_name": "Python 3",
   "language": "python",
   "name": "python3"
  },
  "language_info": {
   "codemirror_mode": {
    "name": "ipython",
    "version": 2
   },
   "file_extension": ".py",
   "mimetype": "text/x-python",
   "name": "python",
   "nbconvert_exporter": "python",
   "pygments_lexer": "ipython2",
   "version": "2.7.6"
  }
 },
 "nbformat": 4,
 "nbformat_minor": 5
}
